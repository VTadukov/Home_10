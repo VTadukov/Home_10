{
 "cells": [
  {
   "cell_type": "markdown",
   "metadata": {},
   "source": [
    "# Solve problem 1"
   ]
  },
  {
   "cell_type": "code",
   "execution_count": 3,
   "metadata": {},
   "outputs": [],
   "source": [
    "import pandas as pd"
   ]
  },
  {
   "cell_type": "code",
   "execution_count": 63,
   "metadata": {},
   "outputs": [
    {
     "data": {
      "text/plain": [
       "Shawshank Redemption, The (1994)    153\n",
       "Name: title, dtype: int64"
      ]
     },
     "execution_count": 63,
     "metadata": {},
     "output_type": "execute_result"
    }
   ],
   "source": [
    "ratings = pd.read_csv('ratings.csv')\n",
    "movies = pd.read_csv('movies.csv')\n",
    "\n",
    "joined = ratings.merge(movies, on='movieId', how='left')\n",
    "best = joined[joined['rating'] == 5.0]['title'].value_counts().head(1)\n",
    "best"
   ]
  },
  {
   "cell_type": "markdown",
   "metadata": {},
   "source": [
    "# Solve problem 2"
   ]
  },
  {
   "cell_type": "code",
   "execution_count": 119,
   "metadata": {},
   "outputs": [
    {
     "data": {
      "text/plain": [
       "240580.0"
      ]
     },
     "execution_count": 119,
     "metadata": {},
     "output_type": "execute_result"
    }
   ],
   "source": [
    "power = pd.read_csv('power.csv')\n",
    "\n",
    "power[power.country.isin(['Latvia','Lithuania','Estonia']) \n",
    "      & (power.category.isin([4, 12, 21])) \n",
    "      & (power.year >= 2005) \n",
    "      & (power.year <= 2010) \n",
    "      & (power.quantity > 0)].quantity.sum()"
   ]
  },
  {
   "cell_type": "markdown",
   "metadata": {},
   "source": [
    "# Solve problem 3"
   ]
  },
  {
   "cell_type": "code",
   "execution_count": 143,
   "metadata": {},
   "outputs": [
    {
     "data": {
      "text/plain": [
       "[       Дата  Закрытие  Открытие  Максимум  Минимум\n",
       " 0  08.04.21    915415    913855    918560   911070\n",
       " 1  07.04.21    913835    913545    927387   913035\n",
       " 2  06.04.21    917225    901615    917617   899727\n",
       " 3  05.04.21    901595    899625    902700   895570\n",
       " 4  04.04.21    899620    899620    899620   899620\n",
       " 5  03.04.21    899455    899455    899455   899455\n",
       " 6  02.04.21    899455    899765    899780   894530\n",
       " 7  01.04.21    899778    887105    899855   886365\n",
       " 8  31.03.21    887125    889385    890925   882222\n",
       " 9  30.03.21    889465    890625    892771   886839,\n",
       "        Имя  Unnamed: 1     %     курс                 Дата\n",
       " 0  EUR/RUB         NaN   355   918665  09.04.2021 15:03:00\n",
       " 1  USD/RUB         NaN  5143   772151  09.04.2021 15:10:00\n",
       " 2  CHF/RUB         NaN  3727   834032  09.04.2021 15:10:00\n",
       " 3  JPY/RUB         NaN  1262     7039  09.04.2021 15:10:00\n",
       " 4  GBP/RUB         NaN  4114  1059463  09.04.2021 15:10:00\n",
       " 5  NOK/RUB         NaN   242    90824  09.04.2021 15:10:00\n",
       " 6  AUD/RUB         NaN  2772   589456  09.04.2021 15:10:00\n",
       " 7  NZD/RUB         NaN  4852   544749  09.04.2021 15:10:00\n",
       " 8  TRY/RUB         NaN   399    94713  09.04.2021 15:10:00]"
      ]
     },
     "execution_count": 143,
     "metadata": {},
     "output_type": "execute_result"
    }
   ],
   "source": [
    "page_url = 'https://www.finanz.ru/valyuty/eur-rub'\n",
    "\n",
    "data_frame = pd.read_html(page_url, attrs = {'class': 'news_table'}, encoding='utf-8')\n",
    "data_frame"
   ]
  }
 ],
 "metadata": {
  "kernelspec": {
   "display_name": "Python 3",
   "language": "python",
   "name": "python3"
  },
  "language_info": {
   "codemirror_mode": {
    "name": "ipython",
    "version": 3
   },
   "file_extension": ".py",
   "mimetype": "text/x-python",
   "name": "python",
   "nbconvert_exporter": "python",
   "pygments_lexer": "ipython3",
   "version": "3.8.5"
  }
 },
 "nbformat": 4,
 "nbformat_minor": 4
}
